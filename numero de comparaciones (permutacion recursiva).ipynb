{
 "cells": [
  {
   "cell_type": "code",
   "execution_count": 1,
   "metadata": {},
   "outputs": [],
   "source": [
    "import random\n",
    "from matplotlib import pyplot as plt\n",
    "import numpy as np\n",
    "import pandas"
   ]
  },
  {
   "cell_type": "code",
   "execution_count": 2,
   "metadata": {},
   "outputs": [],
   "source": [
    "#la funcion permite generar una lista con  las permutaciones tomando como parametro el arreglo inicicial \n",
    "# las permutaciones las genera de forma recursiva sin hacer uso de la funcion itertools\n",
    "\n",
    "def permutacion(arreglo):\n",
    "    #toma el tamaño del arreglo\n",
    "    tamano_arreglo=len(arreglo)\n",
    "    #si el tamaño es cero devuelve una lista vacia\n",
    "    if tamano_arreglo==0:\n",
    "        return []\n",
    "    #si el tamaño es 1 la lista es el mismo arreglo\n",
    "    elif tamano_arreglo==1:\n",
    "        return [arreglo]\n",
    "    #en caso que el arreglo sea de tamaño 2 o mayor\n",
    "    else:\n",
    "        permutaciones=[]\n",
    "        \n",
    "        #se genera un for para recorrer cada elemento del arreglo \n",
    "        for i in range(tamano_arreglo):\n",
    "            #toma el valor en la posicion i del arreglo\n",
    "            n_valor_permutacion=arreglo[i]\n",
    "            #genera una lista con los demas elementos que sean diferente de i\n",
    "            n_valores=arreglo[:i]+arreglo[i+1:]\n",
    "            #agrega a la lista de permutaciones las permutaciones de forma recursiva\n",
    "            for j in permutacion(n_valores):\n",
    "                permutaciones.append([n_valor_permutacion]+j)\n",
    "                \n",
    "        #regresa todas las permutaciones       \n",
    "        return permutaciones\n",
    "    \n",
    "#la funcion toma un areglo y cuenta todas las comparaciones que se ejecutan\n",
    "def insertion(G):\n",
    "    #crea una lista auxiliar para ordenar el arreglo\n",
    "    a=[]\n",
    "    #coloca los valores del arreglo original en la lista auxiliar\n",
    "    for i in range(len(G)):\n",
    "        a.append(G[i])\n",
    "    \n",
    "    #inicializa el conteo de lineas de codigo\n",
    "    pasos=0\n",
    "    \n",
    "    #avance del arreglo desde el segundo elemento hasta el ultimo\n",
    "    for i in range(1,len(a)):\n",
    "        \n",
    "        #almacena el valor en el arreglo de la posicion i\n",
    "        x=a[i]\n",
    "        \n",
    "        #genera un inice con el valor de la anterior posición\n",
    "        j=i-1\n",
    "        \n",
    "        #verifica que el inice j no se salcga del arreglo y verifica si a[j]\n",
    "        #es menor al valor siguiente \n",
    "        while (j>-1) and (a[j]>x):\n",
    "            \n",
    "            #si cumple la condicion en donde estaba  a[i], va a estar a[j]\n",
    "            a[j+1]=a[j]\n",
    "            \n",
    "            #decrese el valor de j para compararlo en el siguiente ciclo\n",
    "            j=j-1\n",
    "            \n",
    "            #cuenta el paso por cada comparacion\n",
    "            pasos=pasos+1\n",
    "            \n",
    "        #cuenta un paso adiconal despues del while siempre que no salga del arreglo original\n",
    "        if(j!=-1):\n",
    "            pasos=pasos+1\n",
    "            \n",
    "        #actualiza el valor donde estaba el mayor valor con el menor valor\n",
    "        a[j+1]=x\n",
    "        \n",
    "    \n",
    "    return pasos\n",
    "    \n",
    "#genera un arreglo de tamaño n con sus valores ordenados    \n",
    "def arreglogen(n):\n",
    "    \n",
    "    #inicializa el arreglo ordenado\n",
    "    v=[]\n",
    "    \n",
    "    #se almacen en el arreglo los valores de 1 hasta n\n",
    "    for i in range(1,n+1):\n",
    "        r=i\n",
    "        v.append(r)\n",
    "        \n",
    "    #retorna el arreglo    \n",
    "    return v\n",
    "\n",
    "#la funcion retorna el tiempo que gasta la comparaciones   la funcion de el numero de elementos del arreglo\n",
    "#en el mejor caso t(n)=n-1\n",
    "def mejorcaso(n):\n",
    "    a=n-1\n",
    "    return a\n",
    "\n",
    "#la funcion retorna el tiempo que gasta la comparaciones   la funcion de el numero de elementos del arreglo\n",
    "#en el peor caso t(n)=(1/2)n^2-(1/2)n\n",
    "def peorcaso(n):\n",
    "    b=((1.0/2)*(n**2))-((1.0/2)*n)\n",
    "    return b\n",
    "\n",
    "\n",
    "\n",
    "#la funcion histograma tiene como parametro el tamaño del arreglo a analizar y da como resultado la distribucion \n",
    "#del tiempo gastado en el algoritmo para cada permutacion\n",
    "def histograma (n):\n",
    "     #inicializa la lista con los tiempos del algoritmo para cada permutacion\n",
    "    lpasos=[]\n",
    "    #inicializa el arreglo ordenado\n",
    "    arreglo=[]\n",
    "    #genera el arreglo ordenado\n",
    "    arreglo=arreglogen(n)\n",
    "    # se generan todas las permutaciones del arreglo\n",
    "    lperm=permutacion(arreglo)\n",
    "    #para cada arreglo permutado se aplicara el algoritmo y se agregara el tiempo de comparaciones\n",
    "    for j in lperm:\n",
    "        lpasos.append(insertion(j))\n",
    "    \n",
    "    \n",
    "    #determina la media o el valor promedio de tiempo que gasta el algoritmo para arreglos de tamaño n\n",
    "    ave=np.mean(lpasos)\n",
    "    #calcula  el tiempo en el mejor de los casos para un arreglo de tamaño n\n",
    "    mejor=mejorcaso(n)\n",
    "    #calcula el tiempo en el peor de los casos  para un arreglo de tamaño n\n",
    "    peor=peorcaso(n)\n",
    "    \n",
    "    #grafica el histograma o distribucion de tiempos del arreglo de tamaño n\n",
    "    print\"grafica de histograma de tiempo de comparaciones para un arreglo de %s valores\" %(n)\n",
    "    plt.figure(1)\n",
    "    plt.hist(lpasos,bins=128)\n",
    "    plt.xlabel('tiempo en complejidad')\n",
    "    plt.ylabel('Frecuencia')\n",
    "    plt.show()\n",
    "    print \"el tiempo medio de comparaciones es:  %s \" %(ave)\n",
    "    print \"en el mejor caso el tiempo de comparaciones es de: %s\" %(mejor)\n",
    "    print \"en el peor caso el tiempo de comparaciones es de: %s\" %(peor)\n",
    "\n",
    "    print \"\\n\""
   ]
  },
  {
   "cell_type": "code",
   "execution_count": 3,
   "metadata": {},
   "outputs": [
    {
     "name": "stdout",
     "output_type": "stream",
     "text": [
      "grafica de histograma de tiempo de comparaciones para un arreglo de 4 valores\n"
     ]
    },
    {
     "data": {
      "image/png": "[encoded data removed]",
      "text/plain": [
       "<Figure size 432x288 with 1 Axes>"
      ]
     },
     "metadata": {},
     "output_type": "display_data"
    },
    {
     "name": "stdout",
     "output_type": "stream",
     "text": [
      "el tiempo medio de comparaciones es:  4.916666666666667 \n",
      "en el mejor caso el tiempo de comparaciones es de: 3\n",
      "en el peor caso el tiempo de comparaciones es de: 6.0\n",
      "\n",
      "\n",
      "grafica de histograma de tiempo de comparaciones para un arreglo de 8 valores\n"
     ]
    },
    {
     "data": {
      "image/png": "[encoded data removed]",
      "text/plain": [
       "<Figure size 432x288 with 1 Axes>"
      ]
     },
     "metadata": {},
     "output_type": "display_data"
    },
    {
     "name": "stdout",
     "output_type": "stream",
     "text": [
      "el tiempo medio de comparaciones es:  19.28214285714286 \n",
      "en el mejor caso el tiempo de comparaciones es de: 7\n",
      "en el peor caso el tiempo de comparaciones es de: 28.0\n",
      "\n",
      "\n",
      "grafica de histograma de tiempo de comparaciones para un arreglo de 10 valores\n"
     ]
    },
    {
     "data": {
      "image/png": "[encoded data removed]",
      "text/plain": [
       "<Figure size 432x288 with 1 Axes>"
      ]
     },
     "metadata": {},
     "output_type": "display_data"
    },
    {
     "name": "stdout",
     "output_type": "stream",
     "text": [
      "el tiempo medio de comparaciones es:  29.571031746031746 \n",
      "en el mejor caso el tiempo de comparaciones es de: 9\n",
      "en el peor caso el tiempo de comparaciones es de: 45.0\n",
      "\n",
      "\n"
     ]
    }
   ],
   "source": [
    "histograma(4)\n",
    "histograma(8)\n",
    "histograma(10)"
   ]
  },
  {
   "cell_type": "code",
   "execution_count": null,
   "metadata": {},
   "outputs": [],
   "source": []
  }
 ],
 "metadata": {
  "kernelspec": {
   "display_name": "Python 2",
   "language": "python",
   "name": "python2"
  },
  "language_info": {
   "codemirror_mode": {
    "name": "ipython",
    "version": 2
   },
   "file_extension": ".py",
   "mimetype": "text/x-python",
   "name": "python",
   "nbconvert_exporter": "python",
   "pygments_lexer": "ipython2",
   "version": "2.7.15"
  }
 },
 "nbformat": 4,
 "nbformat_minor": 2
}
