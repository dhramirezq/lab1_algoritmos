{
 "cells": [
  {
   "cell_type": "code",
   "execution_count": 9,
   "metadata": {},
   "outputs": [],
   "source": [
    "import random\n",
    "import itertools\n",
    "from matplotlib import pyplot as plt\n",
    "import numpy as np\n",
    "import pandas"
   ]
  },
  {
   "cell_type": "code",
   "execution_count": 10,
   "metadata": {},
   "outputs": [],
   "source": [
    "#la funcion permite generar una lista con las tuplas de las permutaciones\n",
    "#tomando como parametro el arreglo inicicial y el numero de permutaciones\n",
    "def permutacion(v,l):\n",
    "    a=[]\n",
    "    #la permutacion se realiza con itertools\n",
    "    a=list(itertools.permutations(v,l))\n",
    "    return a\n",
    "\n",
    "#la funcion toma un areglo y cuenta todas las lineas de codigo que se ejecutan\n",
    "def insertion(G):\n",
    "    #crea una lista auxiliar para ordenar el arreglo\n",
    "    a=[]\n",
    "    #coloca los valores del arreglo original en la lista auxiliar\n",
    "    for i in range(len(G)):\n",
    "        a.append(G[i])\n",
    "    \n",
    "    #inicializa el conteo de lineas de codigo\n",
    "    pasos=0\n",
    "    \n",
    "    #avance del arreglo desde el segundo elemento hasta el ultimo\n",
    "    for i in range(1,len(a)):\n",
    "        #almacena el valor en el arreglo de la posicion i\n",
    "        x=a[i]\n",
    "        #genera un inice con el valor de la anterior posición\n",
    "        j=i-1\n",
    "        #verifica que el inice j no se salcga del arreglo y verifica si a[j]\n",
    "        #es menor al valor siguiente \n",
    "        while (j>-1) and (a[j]>x):\n",
    "            #si cumple la condicion en donde estaba  a[i], va a estar a[j]\n",
    "            a[j+1]=a[j]\n",
    "            #decrese el valor de j para compararlo en el siguiente ciclo\n",
    "            j=j-1\n",
    "            #cuenta el paso por cada swap\n",
    "            pasos=pasos+1\n",
    "        \n",
    "       \n",
    "            \n",
    "        #actualiza el valor donde estaba el mayor valor con el menor valor\n",
    "        a[j+1]=x\n",
    "        \n",
    "    \n",
    "    return pasos\n",
    "#esta funcion genera un arreglo de tamaño n ordendo    \n",
    "def arreglogen(n):\n",
    "    v=[]\n",
    "    for i in range(1,n+1):\n",
    "        r=i\n",
    "        v.append(r)\n",
    "    return v\n",
    "\n",
    "#esta funcion muestra la complejidad en tiempo del mejor caso en swaps\n",
    "#si esta organizado el arreglo la complejidad es 0\n",
    "def mejorcaso(n):\n",
    "    a=0\n",
    "    return a\n",
    "\n",
    "#esta funcion muestra la complejidad en tiempo del peor caso en swaps\n",
    "#la funcion en terminos de su tamaño es (1/2)*n^2-(1/2)*n\n",
    "def peorcaso(n):\n",
    "    b=((1.0/2)*(n**2))-((1.0/2)*n)\n",
    "    return b\n",
    "\n",
    "\n",
    "\n",
    "#la funcion histograma toma el tamaño del arreglo y generara una distribución\n",
    "#deacuerdo a las permutaciones que genere\n",
    "def histograma (n):\n",
    "    # lpasos es un arreglo donde se almacenan los valores de tiempo para cada\n",
    "    #permutacion asi , que sera de tamaño n permutado con n\n",
    "    lpasos=[]\n",
    "    #inicializa el arreglo inicial con el que se van a generar las permutaciones\n",
    "    arreglo=[]\n",
    "    arreglo=arreglogen(n)\n",
    "    #genera una lista con todas la tuplas generadas por las permutaciones\n",
    "    \n",
    "    lperm=permutacion(arreglo,len(arreglo))\n",
    "    #para cada tupla se le aplica el algoritmo de insertion sort  para contar los swaps\n",
    "    #y agregarlos a lpasos\n",
    "    for j in lperm:\n",
    "        lpasos.append(insertion(j))\n",
    "    \n",
    "    #determina la media de la distribucion\n",
    "    ave=np.mean(lpasos)\n",
    "    #determina el valor en tiempo para el mejor caso\n",
    "    mejor=mejorcaso(n)\n",
    "    #determina el valor del peor caso\n",
    "    peor=peorcaso(n)\n",
    "    #promedio=casoprom(n)\n",
    "    \n",
    "    #realiza la correspondiente grafica del histograma\n",
    "    print\"grafica de histograma de tiempo para un arreglo de %s valores\" %(n)\n",
    "    plt.figure(1)\n",
    "    plt.hist(lpasos,bins=128)\n",
    "    plt.xlabel('tiempo en complejidad')\n",
    "    plt.ylabel('Frecuencia')\n",
    "    plt.show()\n",
    "    #imprime los datos del tiempo medio, mejor y peor caso\n",
    "    print \"el tiempo medio es:  %s \" %(ave)\n",
    "    print \"en el mejor caso el tiempo es de: %s\" %(mejor)\n",
    "    print \"en el peor caso el tiempo es de: %s\" %(peor)\n",
    "\n",
    "    print \"\\n\""
   ]
  },
  {
   "cell_type": "code",
   "execution_count": 11,
   "metadata": {},
   "outputs": [
    {
     "name": "stdout",
     "output_type": "stream",
     "text": [
      "grafica de histograma de tiempo para un arreglo de 4 valores\n"
     ]
    },
    {
     "data": {
      "image/png": "[encoded data removed]",
      "text/plain": [
       "<Figure size 432x288 with 1 Axes>"
      ]
     },
     "metadata": {},
     "output_type": "display_data"
    },
    {
     "name": "stdout",
     "output_type": "stream",
     "text": [
      "el tiempo medio es:  3.0 \n",
      "en el mejor caso el tiempo es de: 0\n",
      "en el peor caso el tiempo es de: 6.0\n",
      "\n",
      "\n",
      "grafica de histograma de tiempo para un arreglo de 8 valores\n"
     ]
    },
    {
     "data": {
      "image/png": "[encoded data removed]",
      "text/plain": [
       "<Figure size 432x288 with 1 Axes>"
      ]
     },
     "metadata": {},
     "output_type": "display_data"
    },
    {
     "name": "stdout",
     "output_type": "stream",
     "text": [
      "el tiempo medio es:  14.0 \n",
      "en el mejor caso el tiempo es de: 0\n",
      "en el peor caso el tiempo es de: 28.0\n",
      "\n",
      "\n",
      "grafica de histograma de tiempo para un arreglo de 10 valores\n"
     ]
    },
    {
     "data": {
      "image/png": "[encoded data removed]",
      "text/plain": [
       "<Figure size 432x288 with 1 Axes>"
      ]
     },
     "metadata": {},
     "output_type": "display_data"
    },
    {
     "name": "stdout",
     "output_type": "stream",
     "text": [
      "el tiempo medio es:  22.5 \n",
      "en el mejor caso el tiempo es de: 0\n",
      "en el peor caso el tiempo es de: 45.0\n",
      "\n",
      "\n"
     ]
    }
   ],
   "source": [
    "#grafica y da los datos del histograma con un arreglo de tamaño 4\n",
    "histograma (4)\n",
    "#grafica y da los datos del histograma con un arrglo de tamaño 8\n",
    "histograma (8)\n",
    "#grafica y da los datos del histograma con un arreglo de tamaño 10\n",
    "histograma (10)"
   ]
  }
 ],
 "metadata": {
  "kernelspec": {
   "display_name": "Python 2",
   "language": "python",
   "name": "python2"
  },
  "language_info": {
   "codemirror_mode": {
    "name": "ipython",
    "version": 2
   },
   "file_extension": ".py",
   "mimetype": "text/x-python",
   "name": "python",
   "nbconvert_exporter": "python",
   "pygments_lexer": "ipython2",
   "version": "2.7.15"
  }
 },
 "nbformat": 4,
 "nbformat_minor": 2
}
