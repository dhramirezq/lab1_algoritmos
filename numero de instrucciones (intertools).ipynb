{
 "cells": [
  {
   "cell_type": "code",
   "execution_count": 1,
   "metadata": {},
   "outputs": [],
   "source": [
    "import random\n",
    "import itertools\n",
    "from matplotlib import pyplot as plt\n",
    "import numpy as np\n",
    "import pandas"
   ]
  },
  {
   "cell_type": "code",
   "execution_count": 2,
   "metadata": {},
   "outputs": [],
   "source": [
    "#la funcion permite generar una lista con  las permutaciones tomando como parametro el arreglo inicicial \n",
    "#y el numero de permutaciones\n",
    "def permutacion(v,l):\n",
    "    #inicializa la lista con las permutaciones\n",
    "    a=[]\n",
    "    \n",
    "    #la permutacion se realiza con itertools\n",
    "    a=list(itertools.permutations(v,l))\n",
    "    \n",
    "    #retorna la lista con todas las permutaciones\n",
    "    return a\n",
    "\n",
    "#la funcion toma un areglo y cuenta todas las lineas de codigo que se ejecutan\n",
    "def insertion(G):\n",
    "    #crea una lista auxiliar para ordenar el arreglo\n",
    "    a=[]\n",
    "    #coloca los valores del arreglo original en la lista auxiliar\n",
    "    for i in range(len(G)):\n",
    "        a.append(G[i])\n",
    "    \n",
    "    #inicializa el conteo de lineas de codigo\n",
    "    pasos=0\n",
    "    \n",
    "    #avance del arreglo desde el segundo elemento hasta el ultimo\n",
    "    for i in range(1,len(a)):\n",
    "        \n",
    "        #almacena el valor en el arreglo de la posicion i\n",
    "        x=a[i]\n",
    "        \n",
    "        #genera un inice con el valor de la anterior posición\n",
    "        j=i-1\n",
    "        \n",
    "        #verifica que el inice j no se salcga del arreglo y verifica si a[j]\n",
    "        #es menor al valor siguiente \n",
    "        while (j>-1) and (a[j]>x):\n",
    "            \n",
    "            #si cumple la condicion en donde estaba  a[i], va a estar a[j]\n",
    "            a[j+1]=a[j]\n",
    "            \n",
    "            #decrese el valor de j para compararlo en el siguiente ciclo\n",
    "            j=j-1\n",
    "            \n",
    "            #cuenta los pasos de las 3 lineas ejecutadas en el while \n",
    "            pasos=pasos+3\n",
    "            \n",
    "        #aumenta en un paso despues de salir del while    \n",
    "        pasos=pasos+1\n",
    "        \n",
    "        #actualiza el valor donde estaba el mayor valor con el menor valor\n",
    "        a[j+1]=x\n",
    "        \n",
    "        #cuanta las 3 lineas ejecutadas en el for por fuera del while y las preguntas del for\n",
    "        pasos=pasos+4\n",
    "        \n",
    "    #cuanta la ultima pregunta que se hace en el for para cerrar el ciclo\n",
    "    pasos=pasos+1\n",
    "    \n",
    "    #retorna el numero acumulado de pasos del algoritmo\n",
    "    return pasos\n",
    " \n",
    "#genera un arreglo de tamaño n con sus valores ordenados    \n",
    "def arreglogen(n):\n",
    "    \n",
    "    #inicializa el arreglo ordenado\n",
    "    v=[]\n",
    "    \n",
    "    #se almacen en el arreglo los valores de 1 hasta n\n",
    "    for i in range(1,n+1):\n",
    "        r=i\n",
    "        v.append(r)\n",
    "        \n",
    "    #retorna el arreglo    \n",
    "    return v\n",
    "\n",
    "\n",
    "#la funcion retorna el tiempo que gasta las lineas de codigo en funcion de el numero de elementos del arreglo\n",
    "#en el mejor caso t(n)=5n-4\n",
    "def mejorcaso(n):\n",
    "    a=5*n-4\n",
    "    return a\n",
    "\n",
    "#la funcion retorna el tiempo que gasta las lineas de codigo en funcion de el numero de elementos del arreglo\n",
    "#en el peor caso t(n)=(3/2)n^2+(7/2)n-4\n",
    "def peorcaso(n):\n",
    "    b=((3.0/2)*(n**2))+((7.0/2)*n)-4\n",
    "    return b\n",
    "\n",
    "#la funcion retorna el tiempo que gasta las lineas de codigo en funcion de el numero de elementos del arreglo\n",
    "#en el caso promedio t(n)=(3/4)n^2+(17/4)n-4\n",
    "def casoprom(n):\n",
    "    c=((3.0/4)*(n**2))+((17.0/4)*n)-4\n",
    "    return c\n",
    "\n",
    "\n",
    "#la funcion histograma tiene como parametro el tamaño del arreglo a analizar y da como resultado la distribucion \n",
    "#del tiempo gastado en el algoritmo para cada permutacion\n",
    "def histograma (n):\n",
    "    #inicializa la lista con los tiempos del algoritmo para cada permutacion\n",
    "    lpasos=[]\n",
    "    #inicializa el arreglo ordenado\n",
    "    arreglo=[]\n",
    "    #genera el arreglo ordenado\n",
    "    arreglo=arreglogen(n)\n",
    "    # se generan todas las permutaciones del arreglo\n",
    "    lperm=permutacion(arreglo,len(arreglo))\n",
    "    #para cada arreglo permutado se aplicara el algoritmo y se agregara el tiempo de lineas de codigo\n",
    "    for j in lperm:\n",
    "        lpasos.append(insertion(j))\n",
    "    \n",
    "    #determina la media o el valor promedio de tiempo que gasta el algoritmo para arreglos de tamaño n\n",
    "    ave=np.mean(lpasos)\n",
    "    #calcula  el tiempo en el mejor de los casos para un arreglo de tamaño n\n",
    "    mejor=mejorcaso(n)\n",
    "    #calcula el tiempo en el peor de los casos  para un arreglo de tamaño n\n",
    "    peor=peorcaso(n)\n",
    "    #calcula el tiempo promedio de los casos  para un arreglo de tamaño n\n",
    "    promedio=casoprom(n)\n",
    "    \n",
    "    #grafica el histograma o distribucion de tiempos del arreglo de tamaño n\n",
    "    print\"grafica de histograma de tiempo de instrucciones para un arreglo de %s valores\" %(n)\n",
    "    plt.figure(1)\n",
    "    plt.hist(lpasos,bins=128)\n",
    "    plt.xlabel('tiempo en complejidad')\n",
    "    plt.ylabel('Frecuencia')\n",
    "    plt.show()\n",
    "    print \"el tiempo medio de instrucciones es:  %s \" %(ave)\n",
    "    print \"en el mejor caso el tiempo de instrucciones es de: %s\" %(mejor)\n",
    "    print \"en el peor caso el tiempo de instrucciones es de: %s\" %(peor)\n",
    "    print \"en el caso promedio es de: %s\" %(promedio)\n",
    "    print \"\\n\"\n",
    "    \n",
    "    \n",
    "    \n",
    "  \n",
    "    \n",
    "    \n",
    "  "
   ]
  },
  {
   "cell_type": "code",
   "execution_count": 3,
   "metadata": {},
   "outputs": [
    {
     "name": "stdout",
     "output_type": "stream",
     "text": [
      "grafica de histograma de tiempo de instrucciones para un arreglo de 4 valores\n"
     ]
    },
    {
     "data": {
      "image/png": "[encoded data removed]",
      "text/plain": [
       "<Figure size 432x288 with 1 Axes>"
      ]
     },
     "metadata": {},
     "output_type": "display_data"
    },
    {
     "name": "stdout",
     "output_type": "stream",
     "text": [
      "el tiempo medio de instrucciones es:  25.0 \n",
      "en el mejor caso el tiempo de instrucciones es de: 16\n",
      "en el peor caso el tiempo de instrucciones es de: 34.0\n",
      "en el caso promedio es de: 25.0\n",
      "\n",
      "\n",
      "grafica de histograma de tiempo de instrucciones para un arreglo de 8 valores\n"
     ]
    },
    {
     "data": {
      "image/png": "[encoded data removed]",
      "text/plain": [
       "<Figure size 432x288 with 1 Axes>"
      ]
     },
     "metadata": {},
     "output_type": "display_data"
    },
    {
     "name": "stdout",
     "output_type": "stream",
     "text": [
      "el tiempo medio de instrucciones es:  78.0 \n",
      "en el mejor caso el tiempo de instrucciones es de: 36\n",
      "en el peor caso el tiempo de instrucciones es de: 120.0\n",
      "en el caso promedio es de: 78.0\n",
      "\n",
      "\n",
      "grafica de histograma de tiempo de instrucciones para un arreglo de 10 valores\n"
     ]
    },
    {
     "data": {
      "image/png": "[encoded data removed]",
      "text/plain": [
       "<Figure size 432x288 with 1 Axes>"
      ]
     },
     "metadata": {},
     "output_type": "display_data"
    },
    {
     "name": "stdout",
     "output_type": "stream",
     "text": [
      "el tiempo medio de instrucciones es:  113.5 \n",
      "en el mejor caso el tiempo de instrucciones es de: 46\n",
      "en el peor caso el tiempo de instrucciones es de: 181.0\n",
      "en el caso promedio es de: 113.5\n",
      "\n",
      "\n"
     ]
    }
   ],
   "source": [
    "histograma(4)\n",
    "histograma(8)\n",
    "histograma(10)"
   ]
  },
  {
   "cell_type": "code",
   "execution_count": null,
   "metadata": {},
   "outputs": [],
   "source": []
  }
 ],
 "metadata": {
  "kernelspec": {
   "display_name": "Python 2",
   "language": "python",
   "name": "python2"
  },
  "language_info": {
   "codemirror_mode": {
    "name": "ipython",
    "version": 2
   },
   "file_extension": ".py",
   "mimetype": "text/x-python",
   "name": "python",
   "nbconvert_exporter": "python",
   "pygments_lexer": "ipython2",
   "version": "2.7.15"
  }
 },
 "nbformat": 4,
 "nbformat_minor": 2
}
