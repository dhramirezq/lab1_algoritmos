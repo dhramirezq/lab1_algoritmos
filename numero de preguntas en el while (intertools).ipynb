{
 "cells": [
  {
   "cell_type": "code",
   "execution_count": 1,
   "metadata": {},
   "outputs": [],
   "source": [
    "import random\n",
    "import itertools\n",
    "from matplotlib import pyplot as plt\n",
    "import numpy as np\n",
    "import pandas"
   ]
  },
  {
   "cell_type": "code",
   "execution_count": 2,
   "metadata": {},
   "outputs": [],
   "source": [
    "#la funcion permite generar una lista con las tuplas de las permutaciones\n",
    "#tomando como parametro el arreglo inicicial y el numero de permutaciones\n",
    "def permutacion(v,l):\n",
    "    a=[]\n",
    "    #la permutacion se realiza con itertools\n",
    "    a=list(itertools.permutations(v,l))\n",
    "    return a\n",
    "\n",
    "#la funcion toma un areglo y cuenta las llamas en el while que se ejecutan\n",
    "def insertion(G):\n",
    "    #crea una lista auxiliar para ordenar el arreglo\n",
    "    a=[]\n",
    "    #coloca los valores del arreglo original en la lista auxiliar\n",
    "    for i in range(len(G)):\n",
    "        a.append(G[i])\n",
    "    \n",
    "    #inicializa el conteo de llamadas en el while\n",
    "    pasos=0\n",
    "    \n",
    "    #avance del arreglo desde el segundo elemento hasta el ultimo\n",
    "    for i in range(1,len(a)):\n",
    "        #almacena el valor en el arreglo de la posicion i\n",
    "        x=a[i]\n",
    "        #genera un inice con el valor de la anterior posición\n",
    "        j=i-1\n",
    "        #verifica que el inice j no se salcga del arreglo y verifica si a[j]\n",
    "        #es menor al valor siguiente \n",
    "        while (j>-1) and (a[j]>x):\n",
    "            #si cumple la condicion en donde estaba  a[i], va a estar a[j]\n",
    "            a[j+1]=a[j]\n",
    "            #decrese el valor de j para compararlo en el siguiente ciclo\n",
    "            j=j-1\n",
    "            #cuenta el paso por cada llamado en el while\n",
    "            pasos=pasos+1\n",
    "        #aumenta en un paso despues de salir del while y verificar que j sea diferente de -1   \n",
    "        pasos=pasos+1\n",
    "            \n",
    "        #actualiza el valor donde estaba el mayor valor con el menor valor\n",
    "        a[j+1]=x\n",
    "        \n",
    "    \n",
    "    return pasos\n",
    "    \n",
    "#genera un arreglo de tamaño n con sus valores ordenados    \n",
    "def arreglogen(n):\n",
    "    \n",
    "    #inicializa el arreglo ordenado\n",
    "    v=[]\n",
    "    \n",
    "    #se almacen en el arreglo los valores de 1 hasta n\n",
    "    for i in range(1,n+1):\n",
    "        r=i\n",
    "        v.append(r)\n",
    "        \n",
    "    #retorna el arreglo    \n",
    "    return v\n",
    "\n",
    "#la funcion retorna el tiempo que gasta las llamadas  de while,  la funcion de el numero de elementos del arreglo\n",
    "#en el mejor caso t(n)=n-1\n",
    "def mejorcaso(n):\n",
    "    a=n-1\n",
    "    return a\n",
    "\n",
    "#la funcion retorna el tiempo que gasta las llamadas  de while,  la funcion de el numero de elementos del arreglo\n",
    "#en el peor caso t(n)=(1/2)n^2 +(1/2)n -1\n",
    "def peorcaso(n):\n",
    "    b=((1.0/2)*(n**2))+((1.0/2)*n)-1\n",
    "    return b\n",
    "\n",
    "#la funcion retorna el tiempo que gasta las llamadas  de while,  la funcion de el numero de elementos del arreglo\n",
    "#en el caso promedio t(n)=(1/4)n^2 +(3/4)n -1\n",
    "def casoprom(n):\n",
    "    c=((1.0/4)*(n**2))+((3.0/4)*n)-1\n",
    "    return c\n",
    "\n",
    "\n",
    "def histograma (n):\n",
    "    lpasos=[]\n",
    "    arreglo=[]\n",
    "    arreglo=arreglogen(n)\n",
    "    lperm=permutacion(arreglo,len(arreglo))\n",
    "    for j in lperm:\n",
    "        lpasos.append(insertion(j))\n",
    "    \n",
    "    \n",
    "    ave=np.mean(lpasos)\n",
    "    mejor=mejorcaso(n)\n",
    "    peor=peorcaso(n)\n",
    "    promedio=casoprom(n)\n",
    "    print\"grafica de histograma de tiempo de llamados en el while  para un arreglo de %s valores\" %(n)\n",
    "    plt.figure(1)\n",
    "    plt.hist(lpasos,bins=128)\n",
    "    plt.xlabel('tiempo en complejidad')\n",
    "    plt.ylabel('Frecuencia')\n",
    "    plt.show()\n",
    "    print \"el tiempo de llamados del while medio es:  %s \" %(ave)\n",
    "    print \"en el mejor caso el tiempo de llamados en el while es de: %s\" %(mejor)\n",
    "    print \"en el peor caso el tiempo de llamados en el while es de: %s\" %(peor)\n",
    "    print \"en el caso promedio de llamados en el while es de: %s\" %(promedio)\n",
    "    print \"\\n\""
   ]
  },
  {
   "cell_type": "code",
   "execution_count": 3,
   "metadata": {},
   "outputs": [
    {
     "name": "stdout",
     "output_type": "stream",
     "text": [
      "grafica de histograma de tiempo de llamados en el while  para un arreglo de 4 valores\n"
     ]
    },
    {
     "data": {
      "image/png": "[encoded data removed]",
      "text/plain": [
       "<Figure size 432x288 with 1 Axes>"
      ]
     },
     "metadata": {},
     "output_type": "display_data"
    },
    {
     "name": "stdout",
     "output_type": "stream",
     "text": [
      "el tiempo de llamados del while medio es:  6.0 \n",
      "en el mejor caso el tiempo de llamados en el while es de: 3\n",
      "en el peor caso el tiempo de llamados en el while es de: 9.0\n",
      "en el caso promedio de llamados en el while es de: 6.0\n",
      "\n",
      "\n",
      "grafica de histograma de tiempo de llamados en el while  para un arreglo de 8 valores\n"
     ]
    },
    {
     "data": {
      "image/png": "[encoded data removed]",
      "text/plain": [
       "<Figure size 432x288 with 1 Axes>"
      ]
     },
     "metadata": {},
     "output_type": "display_data"
    },
    {
     "name": "stdout",
     "output_type": "stream",
     "text": [
      "el tiempo de llamados del while medio es:  21.0 \n",
      "en el mejor caso el tiempo de llamados en el while es de: 7\n",
      "en el peor caso el tiempo de llamados en el while es de: 35.0\n",
      "en el caso promedio de llamados en el while es de: 21.0\n",
      "\n",
      "\n",
      "grafica de histograma de tiempo de llamados en el while  para un arreglo de 10 valores\n"
     ]
    },
    {
     "data": {
      "image/png": "[encoded data removed]",
      "text/plain": [
       "<Figure size 432x288 with 1 Axes>"
      ]
     },
     "metadata": {},
     "output_type": "display_data"
    },
    {
     "name": "stdout",
     "output_type": "stream",
     "text": [
      "el tiempo de llamados del while medio es:  31.5 \n",
      "en el mejor caso el tiempo de llamados en el while es de: 9\n",
      "en el peor caso el tiempo de llamados en el while es de: 54.0\n",
      "en el caso promedio de llamados en el while es de: 31.5\n",
      "\n",
      "\n"
     ]
    }
   ],
   "source": [
    "histograma(4)\n",
    "histograma(8)\n",
    "histograma(10)"
   ]
  },
  {
   "cell_type": "code",
   "execution_count": null,
   "metadata": {},
   "outputs": [],
   "source": []
  }
 ],
 "metadata": {
  "kernelspec": {
   "display_name": "Python 2",
   "language": "python",
   "name": "python2"
  },
  "language_info": {
   "codemirror_mode": {
    "name": "ipython",
    "version": 2
   },
   "file_extension": ".py",
   "mimetype": "text/x-python",
   "name": "python",
   "nbconvert_exporter": "python",
   "pygments_lexer": "ipython2",
   "version": "2.7.15"
  }
 },
 "nbformat": 4,
 "nbformat_minor": 2
}
